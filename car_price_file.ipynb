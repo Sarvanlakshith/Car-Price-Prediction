{
 "cells": [
  {
   "cell_type": "code",
   "execution_count": 1,
   "metadata": {},
   "outputs": [],
   "source": [
    "import pandas as pd\n",
    "import numpy as np\n",
    "import matplotlib.pyplot as plt\n",
    "import seaborn as sns\n",
    "%matplotlib inline\n",
    "from sklearn.metrics import mean_squared_error,r2_score\n",
    "from sklearn.model_selection import train_test_split\n",
    "from sklearn.linear_model import LinearRegression,Lasso, RANSACRegressor\n",
    "import statsmodels.formula.api as sm\n",
    "from statsmodels.api import add_constant\n",
    "from sklearn.preprocessing import LabelEncoder, OneHotEncoder, scale, StandardScaler"
   ]
  },
  {
   "cell_type": "code",
   "execution_count": 2,
   "metadata": {},
   "outputs": [],
   "source": [
    "df = pd.read_csv(\"C:/Users/682146/Desktop/work/Python JPA/Assignments/carprice.csv\")"
   ]
  },
  {
   "cell_type": "code",
   "execution_count": null,
   "metadata": {},
   "outputs": [],
   "source": []
  },
  {
   "cell_type": "code",
   "execution_count": 3,
   "metadata": {},
   "outputs": [],
   "source": [
    "df[\"symboling\"] = df[\"symboling\"].astype('category')"
   ]
  },
  {
   "cell_type": "code",
   "execution_count": 4,
   "metadata": {},
   "outputs": [
    {
     "data": {
      "text/plain": [
       " 0    67\n",
       " 1    54\n",
       " 2    32\n",
       " 3    27\n",
       "-1    22\n",
       "-2     3\n",
       "Name: symboling, dtype: int64"
      ]
     },
     "execution_count": 4,
     "metadata": {},
     "output_type": "execute_result"
    }
   ],
   "source": [
    "df[\"symboling\"].value_counts()"
   ]
  },
  {
   "cell_type": "code",
   "execution_count": 5,
   "metadata": {},
   "outputs": [],
   "source": [
    "#Separate car names from the \"CarName\" variable\n",
    "df[\"cars\"] = df[\"CarName\"].str.split().str[0]"
   ]
  },
  {
   "cell_type": "code",
   "execution_count": 6,
   "metadata": {},
   "outputs": [],
   "source": [
    "counts = df[\"cars\"].value_counts()"
   ]
  },
  {
   "cell_type": "code",
   "execution_count": 7,
   "metadata": {},
   "outputs": [],
   "source": [
    "ind_rename = counts[counts<10].index"
   ]
  },
  {
   "cell_type": "code",
   "execution_count": 8,
   "metadata": {},
   "outputs": [],
   "source": [
    "df[\"cars\"] = df[\"cars\"].replace(list(ind_rename),\"other\")"
   ]
  },
  {
   "cell_type": "code",
   "execution_count": 9,
   "metadata": {},
   "outputs": [
    {
     "data": {
      "text/plain": [
       "other         82\n",
       "toyota        31\n",
       "nissan        17\n",
       "mazda         15\n",
       "honda         13\n",
       "mitsubishi    13\n",
       "subaru        12\n",
       "volvo         11\n",
       "peugeot       11\n",
       "Name: cars, dtype: int64"
      ]
     },
     "execution_count": 9,
     "metadata": {},
     "output_type": "execute_result"
    }
   ],
   "source": [
    "df[\"cars\"].value_counts()"
   ]
  },
  {
   "cell_type": "code",
   "execution_count": 10,
   "metadata": {},
   "outputs": [
    {
     "data": {
      "text/plain": [
       "Index(['car_ID', 'symboling', 'CarName', 'fueltype', 'aspiration',\n",
       "       'doornumber', 'carbody', 'drivewheel', 'enginelocation', 'wheelbase',\n",
       "       'carlength', 'carwidth', 'carheight', 'curbweight', 'enginetype',\n",
       "       'cylindernumber', 'enginesize', 'fuelsystem', 'boreratio', 'stroke',\n",
       "       'compressionratio', 'horsepower', 'peakrpm', 'citympg', 'highwaympg',\n",
       "       'price', 'cars'],\n",
       "      dtype='object')"
      ]
     },
     "execution_count": 10,
     "metadata": {},
     "output_type": "execute_result"
    }
   ],
   "source": [
    "df.columns"
   ]
  },
  {
   "cell_type": "code",
   "execution_count": 11,
   "metadata": {},
   "outputs": [
    {
     "data": {
      "text/plain": [
       "car_ID                 int64\n",
       "symboling           category\n",
       "CarName               object\n",
       "fueltype              object\n",
       "aspiration            object\n",
       "doornumber            object\n",
       "carbody               object\n",
       "drivewheel            object\n",
       "enginelocation        object\n",
       "wheelbase            float64\n",
       "carlength            float64\n",
       "carwidth             float64\n",
       "carheight            float64\n",
       "curbweight             int64\n",
       "enginetype            object\n",
       "cylindernumber        object\n",
       "enginesize             int64\n",
       "fuelsystem            object\n",
       "boreratio            float64\n",
       "stroke               float64\n",
       "compressionratio     float64\n",
       "horsepower             int64\n",
       "peakrpm                int64\n",
       "citympg                int64\n",
       "highwaympg             int64\n",
       "price                float64\n",
       "cars                  object\n",
       "dtype: object"
      ]
     },
     "execution_count": 11,
     "metadata": {},
     "output_type": "execute_result"
    }
   ],
   "source": [
    "df.dtypes"
   ]
  },
  {
   "cell_type": "code",
   "execution_count": 12,
   "metadata": {},
   "outputs": [
    {
     "data": {
      "text/plain": [
       "<matplotlib.axes._subplots.AxesSubplot at 0x12c808ba668>"
      ]
     },
     "execution_count": 12,
     "metadata": {},
     "output_type": "execute_result"
    },
    {
     "data": {
      "image/png": "[encoded data removed]",
      "text/plain": [
       "<Figure size 432x288 with 1 Axes>"
      ]
     },
     "metadata": {},
     "output_type": "display_data"
    }
   ],
   "source": [
    "sns.boxplot(df[\"price\"])"
   ]
  },
  {
   "cell_type": "code",
   "execution_count": 13,
   "metadata": {},
   "outputs": [],
   "source": [
    "df = df.drop([\"CarName\",\"car_ID\",\"symboling\"],axis=1)"
   ]
  },
  {
   "cell_type": "code",
   "execution_count": 14,
   "metadata": {},
   "outputs": [],
   "source": [
    "#X = df\n",
    "X = df.drop(\"price\",axis=1)\n",
    "y = df[\"price\"]"
   ]
  },
  {
   "cell_type": "code",
   "execution_count": 15,
   "metadata": {},
   "outputs": [],
   "source": [
    "#Separate numeric and category columns as two different dataframes\n",
    "df_cat = X.select_dtypes(include=['object'])\n",
    "df_num = X.select_dtypes(exclude=['object'])"
   ]
  },
  {
   "cell_type": "code",
   "execution_count": 16,
   "metadata": {},
   "outputs": [],
   "source": [
    "#apply label encoder for categorical columns \n",
    "le = LabelEncoder()\n",
    "df_cat = df_cat.apply(le.fit_transform)"
   ]
  },
  {
   "cell_type": "code",
   "execution_count": 17,
   "metadata": {},
   "outputs": [],
   "source": [
    "#perform one hot encoding on categorical columns \n",
    "df_cat_dum = pd.get_dummies(df_cat.astype(str))"
   ]
  },
  {
   "cell_type": "code",
   "execution_count": 18,
   "metadata": {},
   "outputs": [
    {
     "name": "stderr",
     "output_type": "stream",
     "text": [
      "D:\\Development_Avecto\\ProgramData\\Anaconda3\\lib\\site-packages\\matplotlib\\axes\\_axes.py:6462: UserWarning: The 'normed' kwarg is deprecated, and has been replaced by the 'density' kwarg.\n",
      "  warnings.warn(\"The 'normed' kwarg is deprecated, and has been \"\n"
     ]
    },
    {
     "data": {
      "text/plain": [
       "<matplotlib.axes._subplots.AxesSubplot at 0x12c80c39898>"
      ]
     },
     "execution_count": 18,
     "metadata": {},
     "output_type": "execute_result"
    },
    {
     "data": {
      "image/png": "[encoded data removed]",
      "text/plain": [
       "<Figure size 432x288 with 1 Axes>"
      ]
     },
     "metadata": {},
     "output_type": "display_data"
    }
   ],
   "source": [
    "sns.distplot(df_num[\"carwidth\"])"
   ]
  },
  {
   "cell_type": "code",
   "execution_count": 19,
   "metadata": {},
   "outputs": [],
   "source": [
    "scaler = StandardScaler()\n",
    "scaled_data = scaler.fit_transform(df_num)"
   ]
  },
  {
   "cell_type": "code",
   "execution_count": 20,
   "metadata": {},
   "outputs": [],
   "source": [
    "scaled_features_df = pd.DataFrame(scaled_data, index=df_num.index, columns=df_num.columns)"
   ]
  },
  {
   "cell_type": "code",
   "execution_count": 21,
   "metadata": {},
   "outputs": [],
   "source": [
    "#Concatenate dummy columns, numeric and the target (dependent variable) as a final dataframe\n",
    "df_final = pd.concat([df_cat_dum,scaled_features_df,y],axis=1)"
   ]
  },
  {
   "cell_type": "code",
   "execution_count": 22,
   "metadata": {},
   "outputs": [],
   "source": [
    "X = df_final.drop(\"price\",axis=1)\n",
    "y = df_final[\"price\"]"
   ]
  },
  {
   "cell_type": "code",
   "execution_count": 23,
   "metadata": {},
   "outputs": [],
   "source": [
    "#Split the data from training and testing purpose\n",
    "X_train, X_test, y_train, y_test = train_test_split(X, y, test_size=0.2, random_state=30)"
   ]
  },
  {
   "cell_type": "code",
   "execution_count": 24,
   "metadata": {},
   "outputs": [],
   "source": [
    "lm = LinearRegression()\n",
    "lm.fit(X_train, y_train)\n",
    "\n",
    "Y_pred = lm.predict(X_test)"
   ]
  },
  {
   "cell_type": "code",
   "execution_count": 25,
   "metadata": {},
   "outputs": [],
   "source": [
    "mse = mean_squared_error(y_test,Y_pred)"
   ]
  },
  {
   "cell_type": "code",
   "execution_count": 26,
   "metadata": {},
   "outputs": [
    {
     "name": "stdout",
     "output_type": "stream",
     "text": [
      "7077177.25\n"
     ]
    }
   ],
   "source": [
    "print(mse)"
   ]
  },
  {
   "cell_type": "code",
   "execution_count": 27,
   "metadata": {},
   "outputs": [
    {
     "data": {
      "text/plain": [
       "0.8718238702041528"
      ]
     },
     "execution_count": 27,
     "metadata": {},
     "output_type": "execute_result"
    }
   ],
   "source": [
    "r2_score(y_test,Y_pred)"
   ]
  },
  {
   "cell_type": "code",
   "execution_count": 28,
   "metadata": {},
   "outputs": [
    {
     "data": {
      "text/plain": [
       "0.9462163375939161"
      ]
     },
     "execution_count": 28,
     "metadata": {},
     "output_type": "execute_result"
    }
   ],
   "source": [
    "lm.score(X_train, y_train)"
   ]
  },
  {
   "cell_type": "code",
   "execution_count": 29,
   "metadata": {},
   "outputs": [
    {
     "data": {
      "text/plain": [
       "0.8718238702041528"
      ]
     },
     "execution_count": 29,
     "metadata": {},
     "output_type": "execute_result"
    }
   ],
   "source": [
    "lm.score(X_test,y_test)"
   ]
  },
  {
   "cell_type": "code",
   "execution_count": 30,
   "metadata": {},
   "outputs": [
    {
     "name": "stderr",
     "output_type": "stream",
     "text": [
      "D:\\Development_Avecto\\ProgramData\\Anaconda3\\lib\\site-packages\\sklearn\\linear_model\\coordinate_descent.py:491: ConvergenceWarning: Objective did not converge. You might want to increase the number of iterations. Fitting data with very small alpha may cause precision problems.\n",
      "  ConvergenceWarning)\n"
     ]
    }
   ],
   "source": [
    "lr = Lasso(alpha=0.1)\n",
    "model3 = lr.fit(X_train, y_train)"
   ]
  },
  {
   "cell_type": "code",
   "execution_count": 31,
   "metadata": {},
   "outputs": [],
   "source": [
    "Y_pred1 = lr.predict(X_test)"
   ]
  },
  {
   "cell_type": "code",
   "execution_count": 32,
   "metadata": {},
   "outputs": [
    {
     "name": "stdout",
     "output_type": "stream",
     "text": [
      "6945688.721110869\n"
     ]
    }
   ],
   "source": [
    "mse = mean_squared_error(y_test, Y_pred1)\n",
    "print(mse)"
   ]
  },
  {
   "cell_type": "code",
   "execution_count": 33,
   "metadata": {},
   "outputs": [
    {
     "data": {
      "text/plain": [
       "0.8742052844531116"
      ]
     },
     "execution_count": 33,
     "metadata": {},
     "output_type": "execute_result"
    }
   ],
   "source": [
    "r2_score(y_test, Y_pred1)"
   ]
  },
  {
   "cell_type": "code",
   "execution_count": 34,
   "metadata": {},
   "outputs": [
    {
     "data": {
      "text/plain": [
       "array([ 1.34132992e+04, -0.00000000e+00, -9.43125922e+02,  1.71208015e-10,\n",
       "       -4.02881042e+01,  0.00000000e+00,  3.19014894e+03,  4.60405740e+02,\n",
       "       -6.03641925e+02,  7.73829673e+01, -1.15843322e+03, -0.00000000e+00,\n",
       "       -8.20698551e+02,  3.33584188e+02, -7.03740628e+03,  1.94262422e-09,\n",
       "       -2.63318511e+02,  0.00000000e+00, -1.12612613e+03,  3.15563022e+03,\n",
       "        0.00000000e+00, -4.48140277e+03,  4.04348746e+03,  7.92500163e+03,\n",
       "       -3.82007737e+03, -3.94342293e+03,  9.93644576e+02,  3.63506611e+03,\n",
       "       -9.75118225e+01,  0.00000000e+00, -2.10245471e+02,  1.50939043e+03,\n",
       "       -1.39688243e+03,  3.73811340e+02, -1.72473731e+03,  8.32979288e+02,\n",
       "       -1.68322930e+02, -7.61741043e+02,  2.48566870e+03,  1.23997279e+03,\n",
       "       -2.64052050e+02,  2.24290306e+02,  1.37960060e+03, -2.61597689e+02,\n",
       "       -2.14530639e+02, -4.65735945e+02, -2.30420571e+03,  2.40259275e+02,\n",
       "       -3.82481348e+02,  1.50981927e+03,  3.43185066e+02,  2.36537785e+03,\n",
       "        3.04687080e+03,  3.51880586e+02, -1.47524096e+03, -3.21561281e+03,\n",
       "        8.43182001e+02,  1.04837414e+03,  1.62073497e+02,  6.28999278e+02])"
      ]
     },
     "execution_count": 34,
     "metadata": {},
     "output_type": "execute_result"
    }
   ],
   "source": [
    "lr.coef_"
   ]
  },
  {
   "cell_type": "code",
   "execution_count": 35,
   "metadata": {},
   "outputs": [],
   "source": [
    "result = pd.DataFrame()\n",
    "result[\"columns\"]=X.columns\n",
    "result[\"weights\"] = lr.coef_\n",
    "\n",
    "result.sort_values(\"weights\",ascending=False, inplace=True)\n",
    "\n",
    "result = result.loc[result[\"weights\"]>0,:]\n",
    "\n",
    "result.to_csv(\"results_carprices.csv\",index=False)"
   ]
  },
  {
   "cell_type": "code",
   "execution_count": 36,
   "metadata": {},
   "outputs": [
    {
     "data": {
      "text/html": [
       "<table class=\"simpletable\">\n",
       "<caption>OLS Regression Results</caption>\n",
       "<tr>\n",
       "  <th>Dep. Variable:</th>          <td>price</td>      <th>  R-squared:         </th> <td>   0.946</td>\n",
       "</tr>\n",
       "<tr>\n",
       "  <th>Model:</th>                   <td>OLS</td>       <th>  Adj. R-squared:    </th> <td>   0.930</td>\n",
       "</tr>\n",
       "<tr>\n",
       "  <th>Method:</th>             <td>Least Squares</td>  <th>  F-statistic:       </th> <td>   60.25</td>\n",
       "</tr>\n",
       "<tr>\n",
       "  <th>Date:</th>             <td>Tue, 22 Jan 2019</td> <th>  Prob (F-statistic):</th> <td>1.84e-79</td>\n",
       "</tr>\n",
       "<tr>\n",
       "  <th>Time:</th>                 <td>17:17:39</td>     <th>  Log-Likelihood:    </th> <td> -1833.2</td>\n",
       "</tr>\n",
       "<tr>\n",
       "  <th>No. Observations:</th>      <td>   205</td>      <th>  AIC:               </th> <td>   3760.</td>\n",
       "</tr>\n",
       "<tr>\n",
       "  <th>Df Residuals:</th>          <td>   158</td>      <th>  BIC:               </th> <td>   3917.</td>\n",
       "</tr>\n",
       "<tr>\n",
       "  <th>Df Model:</th>              <td>    46</td>      <th>                     </th>     <td> </td>   \n",
       "</tr>\n",
       "<tr>\n",
       "  <th>Covariance Type:</th>      <td>nonrobust</td>    <th>                     </th>     <td> </td>   \n",
       "</tr>\n",
       "</table>\n",
       "<table class=\"simpletable\">\n",
       "<tr>\n",
       "          <td></td>            <th>coef</th>     <th>std err</th>      <th>t</th>      <th>P>|t|</th>  <th>[0.025</th>    <th>0.975]</th>  \n",
       "</tr>\n",
       "<tr>\n",
       "  <th>const</th>            <td> 4917.5301</td> <td>  676.972</td> <td>    7.264</td> <td> 0.000</td> <td> 3580.449</td> <td> 6254.611</td>\n",
       "</tr>\n",
       "<tr>\n",
       "  <th>fueltype_0</th>       <td> 6070.5583</td> <td> 2442.146</td> <td>    2.486</td> <td> 0.014</td> <td> 1247.096</td> <td> 1.09e+04</td>\n",
       "</tr>\n",
       "<tr>\n",
       "  <th>fueltype_1</th>       <td>-1153.0282</td> <td> 1904.944</td> <td>   -0.605</td> <td> 0.546</td> <td>-4915.467</td> <td> 2609.411</td>\n",
       "</tr>\n",
       "<tr>\n",
       "  <th>aspiration_0</th>     <td> 1511.8828</td> <td>  583.807</td> <td>    2.590</td> <td> 0.011</td> <td>  358.810</td> <td> 2664.955</td>\n",
       "</tr>\n",
       "<tr>\n",
       "  <th>aspiration_1</th>     <td> 3405.6473</td> <td>  560.805</td> <td>    6.073</td> <td> 0.000</td> <td> 2298.006</td> <td> 4513.289</td>\n",
       "</tr>\n",
       "<tr>\n",
       "  <th>doornumber_0</th>     <td> 2493.8764</td> <td>  433.534</td> <td>    5.752</td> <td> 0.000</td> <td> 1637.606</td> <td> 3350.146</td>\n",
       "</tr>\n",
       "<tr>\n",
       "  <th>doornumber_1</th>     <td> 2423.6537</td> <td>  426.162</td> <td>    5.687</td> <td> 0.000</td> <td> 1581.944</td> <td> 3265.363</td>\n",
       "</tr>\n",
       "<tr>\n",
       "  <th>carbody_0</th>        <td> 3431.4693</td> <td>  957.844</td> <td>    3.582</td> <td> 0.000</td> <td> 1539.639</td> <td> 5323.299</td>\n",
       "</tr>\n",
       "<tr>\n",
       "  <th>carbody_1</th>        <td>  545.5976</td> <td>  846.841</td> <td>    0.644</td> <td> 0.520</td> <td>-1126.991</td> <td> 2218.187</td>\n",
       "</tr>\n",
       "<tr>\n",
       "  <th>carbody_2</th>        <td>  245.8336</td> <td>  469.705</td> <td>    0.523</td> <td> 0.601</td> <td> -681.877</td> <td> 1173.544</td>\n",
       "</tr>\n",
       "<tr>\n",
       "  <th>carbody_3</th>        <td>  948.6156</td> <td>  466.911</td> <td>    2.032</td> <td> 0.044</td> <td>   26.424</td> <td> 1870.807</td>\n",
       "</tr>\n",
       "<tr>\n",
       "  <th>carbody_4</th>        <td> -253.9859</td> <td>  648.439</td> <td>   -0.392</td> <td> 0.696</td> <td>-1534.713</td> <td> 1026.741</td>\n",
       "</tr>\n",
       "<tr>\n",
       "  <th>drivewheel_0</th>     <td> 1347.8495</td> <td>  713.311</td> <td>    1.890</td> <td> 0.061</td> <td>  -61.006</td> <td> 2756.705</td>\n",
       "</tr>\n",
       "<tr>\n",
       "  <th>drivewheel_1</th>     <td>  961.9713</td> <td>  477.090</td> <td>    2.016</td> <td> 0.045</td> <td>   19.675</td> <td> 1904.268</td>\n",
       "</tr>\n",
       "<tr>\n",
       "  <th>drivewheel_2</th>     <td> 2607.7093</td> <td>  624.998</td> <td>    4.172</td> <td> 0.000</td> <td> 1373.281</td> <td> 3842.138</td>\n",
       "</tr>\n",
       "<tr>\n",
       "  <th>enginelocation_0</th> <td> -931.3890</td> <td>  732.980</td> <td>   -1.271</td> <td> 0.206</td> <td>-2379.091</td> <td>  516.313</td>\n",
       "</tr>\n",
       "<tr>\n",
       "  <th>enginelocation_1</th> <td> 5848.9191</td> <td>  999.128</td> <td>    5.854</td> <td> 0.000</td> <td> 3875.550</td> <td> 7822.288</td>\n",
       "</tr>\n",
       "<tr>\n",
       "  <th>enginetype_0</th>     <td>  959.0688</td> <td> 1216.179</td> <td>    0.789</td> <td> 0.432</td> <td>-1442.997</td> <td> 3361.134</td>\n",
       "</tr>\n",
       "<tr>\n",
       "  <th>enginetype_1</th>     <td>-4646.3457</td> <td> 3566.700</td> <td>   -1.303</td> <td> 0.195</td> <td>-1.17e+04</td> <td> 2398.216</td>\n",
       "</tr>\n",
       "<tr>\n",
       "  <th>enginetype_2</th>     <td> 1309.3408</td> <td> 1107.058</td> <td>    1.183</td> <td> 0.239</td> <td> -877.201</td> <td> 3495.883</td>\n",
       "</tr>\n",
       "<tr>\n",
       "  <th>enginetype_3</th>     <td> 3894.7464</td> <td> 1192.626</td> <td>    3.266</td> <td> 0.001</td> <td> 1539.201</td> <td> 6250.292</td>\n",
       "</tr>\n",
       "<tr>\n",
       "  <th>enginetype_4</th>     <td> 4086.9736</td> <td>  774.572</td> <td>    5.276</td> <td> 0.000</td> <td> 2557.122</td> <td> 5616.825</td>\n",
       "</tr>\n",
       "<tr>\n",
       "  <th>enginetype_5</th>     <td>-4123.5246</td> <td> 1099.716</td> <td>   -3.750</td> <td> 0.000</td> <td>-6295.566</td> <td>-1951.484</td>\n",
       "</tr>\n",
       "<tr>\n",
       "  <th>enginetype_6</th>     <td> 3437.2709</td> <td> 1278.756</td> <td>    2.688</td> <td> 0.008</td> <td>  911.610</td> <td> 5962.932</td>\n",
       "</tr>\n",
       "<tr>\n",
       "  <th>cylindernumber_0</th> <td> 5807.0119</td> <td> 1866.108</td> <td>    3.112</td> <td> 0.002</td> <td> 2121.278</td> <td> 9492.746</td>\n",
       "</tr>\n",
       "<tr>\n",
       "  <th>cylindernumber_1</th> <td>-3589.7362</td> <td> 1413.918</td> <td>   -2.539</td> <td> 0.012</td> <td>-6382.354</td> <td> -797.119</td>\n",
       "</tr>\n",
       "<tr>\n",
       "  <th>cylindernumber_2</th> <td>-3488.8529</td> <td> 1474.639</td> <td>   -2.366</td> <td> 0.019</td> <td>-6401.402</td> <td> -576.304</td>\n",
       "</tr>\n",
       "<tr>\n",
       "  <th>cylindernumber_3</th> <td>  322.1160</td> <td>  802.322</td> <td>    0.401</td> <td> 0.689</td> <td>-1262.545</td> <td> 1906.777</td>\n",
       "</tr>\n",
       "<tr>\n",
       "  <th>cylindernumber_4</th> <td> 3390.3285</td> <td> 1788.855</td> <td>    1.895</td> <td> 0.060</td> <td> -142.824</td> <td> 6923.481</td>\n",
       "</tr>\n",
       "<tr>\n",
       "  <th>cylindernumber_5</th> <td> -960.6080</td> <td> 4071.403</td> <td>   -0.236</td> <td> 0.814</td> <td>-9002.004</td> <td> 7080.788</td>\n",
       "</tr>\n",
       "<tr>\n",
       "  <th>cylindernumber_6</th> <td> 3437.2709</td> <td> 1278.756</td> <td>    2.688</td> <td> 0.008</td> <td>  911.610</td> <td> 5962.932</td>\n",
       "</tr>\n",
       "<tr>\n",
       "  <th>fuelsystem_0</th>     <td> -338.0143</td> <td> 1668.772</td> <td>   -0.203</td> <td> 0.840</td> <td>-3633.992</td> <td> 2957.964</td>\n",
       "</tr>\n",
       "<tr>\n",
       "  <th>fuelsystem_1</th>     <td> 1398.4738</td> <td>  717.930</td> <td>    1.948</td> <td> 0.053</td> <td>  -19.504</td> <td> 2816.451</td>\n",
       "</tr>\n",
       "<tr>\n",
       "  <th>fuelsystem_2</th>     <td> -693.8457</td> <td> 2246.757</td> <td>   -0.309</td> <td> 0.758</td> <td>-5131.398</td> <td> 3743.706</td>\n",
       "</tr>\n",
       "<tr>\n",
       "  <th>fuelsystem_3</th>     <td> 6070.5583</td> <td> 2442.146</td> <td>    2.486</td> <td> 0.014</td> <td> 1247.096</td> <td> 1.09e+04</td>\n",
       "</tr>\n",
       "<tr>\n",
       "  <th>fuelsystem_4</th>     <td>-1738.4695</td> <td> 2123.081</td> <td>   -0.819</td> <td> 0.414</td> <td>-5931.749</td> <td> 2454.810</td>\n",
       "</tr>\n",
       "<tr>\n",
       "  <th>fuelsystem_5</th>     <td> 1339.0421</td> <td>  744.983</td> <td>    1.797</td> <td> 0.074</td> <td> -132.368</td> <td> 2810.452</td>\n",
       "</tr>\n",
       "<tr>\n",
       "  <th>fuelsystem_6</th>     <td> -459.8249</td> <td> 1179.722</td> <td>   -0.390</td> <td> 0.697</td> <td>-2789.884</td> <td> 1870.234</td>\n",
       "</tr>\n",
       "<tr>\n",
       "  <th>fuelsystem_7</th>     <td> -660.3897</td> <td> 2038.025</td> <td>   -0.324</td> <td> 0.746</td> <td>-4685.678</td> <td> 3364.898</td>\n",
       "</tr>\n",
       "<tr>\n",
       "  <th>cars_0</th>           <td> 3674.4239</td> <td> 1522.125</td> <td>    2.414</td> <td> 0.017</td> <td>  668.088</td> <td> 6680.760</td>\n",
       "</tr>\n",
       "<tr>\n",
       "  <th>cars_1</th>           <td> 1451.5623</td> <td>  710.380</td> <td>    2.043</td> <td> 0.043</td> <td>   48.497</td> <td> 2854.628</td>\n",
       "</tr>\n",
       "<tr>\n",
       "  <th>cars_2</th>           <td>  674.7730</td> <td>  856.529</td> <td>    0.788</td> <td> 0.432</td> <td>-1016.951</td> <td> 2366.497</td>\n",
       "</tr>\n",
       "<tr>\n",
       "  <th>cars_3</th>           <td> 1750.5979</td> <td>  743.463</td> <td>    2.355</td> <td> 0.020</td> <td>  282.190</td> <td> 3219.006</td>\n",
       "</tr>\n",
       "<tr>\n",
       "  <th>cars_4</th>           <td> 2061.3074</td> <td>  523.154</td> <td>    3.940</td> <td> 0.000</td> <td> 1028.030</td> <td> 3094.585</td>\n",
       "</tr>\n",
       "<tr>\n",
       "  <th>cars_5</th>           <td>-2080.9877</td> <td> 1312.913</td> <td>   -1.585</td> <td> 0.115</td> <td>-4674.112</td> <td>  512.137</td>\n",
       "</tr>\n",
       "<tr>\n",
       "  <th>cars_6</th>           <td>-1761.9455</td> <td>  940.763</td> <td>   -1.873</td> <td> 0.063</td> <td>-3620.040</td> <td>   96.149</td>\n",
       "</tr>\n",
       "<tr>\n",
       "  <th>cars_7</th>           <td>  422.6142</td> <td>  597.622</td> <td>    0.707</td> <td> 0.481</td> <td> -757.743</td> <td> 1602.972</td>\n",
       "</tr>\n",
       "<tr>\n",
       "  <th>cars_8</th>           <td>-1274.8153</td> <td>  924.230</td> <td>   -1.379</td> <td> 0.170</td> <td>-3100.255</td> <td>  550.624</td>\n",
       "</tr>\n",
       "<tr>\n",
       "  <th>wheelbase</th>        <td>  611.4477</td> <td>  523.588</td> <td>    1.168</td> <td> 0.245</td> <td> -422.686</td> <td> 1645.581</td>\n",
       "</tr>\n",
       "<tr>\n",
       "  <th>carlength</th>        <td> -668.0471</td> <td>  585.382</td> <td>   -1.141</td> <td> 0.256</td> <td>-1824.231</td> <td>  488.137</td>\n",
       "</tr>\n",
       "<tr>\n",
       "  <th>carwidth</th>         <td> 1672.4693</td> <td>  515.585</td> <td>    3.244</td> <td> 0.001</td> <td>  654.142</td> <td> 2690.797</td>\n",
       "</tr>\n",
       "<tr>\n",
       "  <th>carheight</th>        <td>  181.5485</td> <td>  316.988</td> <td>    0.573</td> <td> 0.568</td> <td> -444.532</td> <td>  807.629</td>\n",
       "</tr>\n",
       "<tr>\n",
       "  <th>curbweight</th>       <td> 2342.8686</td> <td>  873.243</td> <td>    2.683</td> <td> 0.008</td> <td>  618.133</td> <td> 4067.604</td>\n",
       "</tr>\n",
       "<tr>\n",
       "  <th>enginesize</th>       <td> 4030.2570</td> <td> 1052.312</td> <td>    3.830</td> <td> 0.000</td> <td> 1951.844</td> <td> 6108.670</td>\n",
       "</tr>\n",
       "<tr>\n",
       "  <th>boreratio</th>        <td>  -44.1389</td> <td>  434.512</td> <td>   -0.102</td> <td> 0.919</td> <td> -902.339</td> <td>  814.061</td>\n",
       "</tr>\n",
       "<tr>\n",
       "  <th>stroke</th>           <td>-1493.3989</td> <td>  275.726</td> <td>   -5.416</td> <td> 0.000</td> <td>-2037.983</td> <td> -948.815</td>\n",
       "</tr>\n",
       "<tr>\n",
       "  <th>compressionratio</th> <td>-3440.8294</td> <td> 2025.806</td> <td>   -1.698</td> <td> 0.091</td> <td>-7441.982</td> <td>  560.324</td>\n",
       "</tr>\n",
       "<tr>\n",
       "  <th>horsepower</th>       <td>  -92.1459</td> <td>  872.807</td> <td>   -0.106</td> <td> 0.916</td> <td>-1816.020</td> <td> 1631.728</td>\n",
       "</tr>\n",
       "<tr>\n",
       "  <th>peakrpm</th>          <td>  981.5115</td> <td>  316.221</td> <td>    3.104</td> <td> 0.002</td> <td>  356.945</td> <td> 1606.078</td>\n",
       "</tr>\n",
       "<tr>\n",
       "  <th>citympg</th>          <td> -277.9204</td> <td>  934.250</td> <td>   -0.297</td> <td> 0.766</td> <td>-2123.150</td> <td> 1567.309</td>\n",
       "</tr>\n",
       "<tr>\n",
       "  <th>highwaympg</th>       <td>  944.1589</td> <td>  902.860</td> <td>    1.046</td> <td> 0.297</td> <td> -839.074</td> <td> 2727.391</td>\n",
       "</tr>\n",
       "</table>\n",
       "<table class=\"simpletable\">\n",
       "<tr>\n",
       "  <th>Omnibus:</th>       <td>42.275</td> <th>  Durbin-Watson:     </th> <td>   1.503</td>\n",
       "</tr>\n",
       "<tr>\n",
       "  <th>Prob(Omnibus):</th> <td> 0.000</td> <th>  Jarque-Bera (JB):  </th> <td> 141.762</td>\n",
       "</tr>\n",
       "<tr>\n",
       "  <th>Skew:</th>          <td> 0.790</td> <th>  Prob(JB):          </th> <td>1.65e-31</td>\n",
       "</tr>\n",
       "<tr>\n",
       "  <th>Kurtosis:</th>      <td> 6.755</td> <th>  Cond. No.          </th> <td>2.03e+16</td>\n",
       "</tr>\n",
       "</table><br/><br/>Warnings:<br/>[1] Standard Errors assume that the covariance matrix of the errors is correctly specified.<br/>[2] The smallest eigenvalue is 3.7e-30. This might indicate that there are<br/>strong multicollinearity problems or that the design matrix is singular."
      ],
      "text/plain": [
       "<class 'statsmodels.iolib.summary.Summary'>\n",
       "\"\"\"\n",
       "                            OLS Regression Results                            \n",
       "==============================================================================\n",
       "Dep. Variable:                  price   R-squared:                       0.946\n",
       "Model:                            OLS   Adj. R-squared:                  0.930\n",
       "Method:                 Least Squares   F-statistic:                     60.25\n",
       "Date:                Tue, 22 Jan 2019   Prob (F-statistic):           1.84e-79\n",
       "Time:                        17:17:39   Log-Likelihood:                -1833.2\n",
       "No. Observations:                 205   AIC:                             3760.\n",
       "Df Residuals:                     158   BIC:                             3917.\n",
       "Df Model:                          46                                         \n",
       "Covariance Type:            nonrobust                                         \n",
       "====================================================================================\n",
       "                       coef    std err          t      P>|t|      [0.025      0.975]\n",
       "------------------------------------------------------------------------------------\n",
       "const             4917.5301    676.972      7.264      0.000    3580.449    6254.611\n",
       "fueltype_0        6070.5583   2442.146      2.486      0.014    1247.096    1.09e+04\n",
       "fueltype_1       -1153.0282   1904.944     -0.605      0.546   -4915.467    2609.411\n",
       "aspiration_0      1511.8828    583.807      2.590      0.011     358.810    2664.955\n",
       "aspiration_1      3405.6473    560.805      6.073      0.000    2298.006    4513.289\n",
       "doornumber_0      2493.8764    433.534      5.752      0.000    1637.606    3350.146\n",
       "doornumber_1      2423.6537    426.162      5.687      0.000    1581.944    3265.363\n",
       "carbody_0         3431.4693    957.844      3.582      0.000    1539.639    5323.299\n",
       "carbody_1          545.5976    846.841      0.644      0.520   -1126.991    2218.187\n",
       "carbody_2          245.8336    469.705      0.523      0.601    -681.877    1173.544\n",
       "carbody_3          948.6156    466.911      2.032      0.044      26.424    1870.807\n",
       "carbody_4         -253.9859    648.439     -0.392      0.696   -1534.713    1026.741\n",
       "drivewheel_0      1347.8495    713.311      1.890      0.061     -61.006    2756.705\n",
       "drivewheel_1       961.9713    477.090      2.016      0.045      19.675    1904.268\n",
       "drivewheel_2      2607.7093    624.998      4.172      0.000    1373.281    3842.138\n",
       "enginelocation_0  -931.3890    732.980     -1.271      0.206   -2379.091     516.313\n",
       "enginelocation_1  5848.9191    999.128      5.854      0.000    3875.550    7822.288\n",
       "enginetype_0       959.0688   1216.179      0.789      0.432   -1442.997    3361.134\n",
       "enginetype_1     -4646.3457   3566.700     -1.303      0.195   -1.17e+04    2398.216\n",
       "enginetype_2      1309.3408   1107.058      1.183      0.239    -877.201    3495.883\n",
       "enginetype_3      3894.7464   1192.626      3.266      0.001    1539.201    6250.292\n",
       "enginetype_4      4086.9736    774.572      5.276      0.000    2557.122    5616.825\n",
       "enginetype_5     -4123.5246   1099.716     -3.750      0.000   -6295.566   -1951.484\n",
       "enginetype_6      3437.2709   1278.756      2.688      0.008     911.610    5962.932\n",
       "cylindernumber_0  5807.0119   1866.108      3.112      0.002    2121.278    9492.746\n",
       "cylindernumber_1 -3589.7362   1413.918     -2.539      0.012   -6382.354    -797.119\n",
       "cylindernumber_2 -3488.8529   1474.639     -2.366      0.019   -6401.402    -576.304\n",
       "cylindernumber_3   322.1160    802.322      0.401      0.689   -1262.545    1906.777\n",
       "cylindernumber_4  3390.3285   1788.855      1.895      0.060    -142.824    6923.481\n",
       "cylindernumber_5  -960.6080   4071.403     -0.236      0.814   -9002.004    7080.788\n",
       "cylindernumber_6  3437.2709   1278.756      2.688      0.008     911.610    5962.932\n",
       "fuelsystem_0      -338.0143   1668.772     -0.203      0.840   -3633.992    2957.964\n",
       "fuelsystem_1      1398.4738    717.930      1.948      0.053     -19.504    2816.451\n",
       "fuelsystem_2      -693.8457   2246.757     -0.309      0.758   -5131.398    3743.706\n",
       "fuelsystem_3      6070.5583   2442.146      2.486      0.014    1247.096    1.09e+04\n",
       "fuelsystem_4     -1738.4695   2123.081     -0.819      0.414   -5931.749    2454.810\n",
       "fuelsystem_5      1339.0421    744.983      1.797      0.074    -132.368    2810.452\n",
       "fuelsystem_6      -459.8249   1179.722     -0.390      0.697   -2789.884    1870.234\n",
       "fuelsystem_7      -660.3897   2038.025     -0.324      0.746   -4685.678    3364.898\n",
       "cars_0            3674.4239   1522.125      2.414      0.017     668.088    6680.760\n",
       "cars_1            1451.5623    710.380      2.043      0.043      48.497    2854.628\n",
       "cars_2             674.7730    856.529      0.788      0.432   -1016.951    2366.497\n",
       "cars_3            1750.5979    743.463      2.355      0.020     282.190    3219.006\n",
       "cars_4            2061.3074    523.154      3.940      0.000    1028.030    3094.585\n",
       "cars_5           -2080.9877   1312.913     -1.585      0.115   -4674.112     512.137\n",
       "cars_6           -1761.9455    940.763     -1.873      0.063   -3620.040      96.149\n",
       "cars_7             422.6142    597.622      0.707      0.481    -757.743    1602.972\n",
       "cars_8           -1274.8153    924.230     -1.379      0.170   -3100.255     550.624\n",
       "wheelbase          611.4477    523.588      1.168      0.245    -422.686    1645.581\n",
       "carlength         -668.0471    585.382     -1.141      0.256   -1824.231     488.137\n",
       "carwidth          1672.4693    515.585      3.244      0.001     654.142    2690.797\n",
       "carheight          181.5485    316.988      0.573      0.568    -444.532     807.629\n",
       "curbweight        2342.8686    873.243      2.683      0.008     618.133    4067.604\n",
       "enginesize        4030.2570   1052.312      3.830      0.000    1951.844    6108.670\n",
       "boreratio          -44.1389    434.512     -0.102      0.919    -902.339     814.061\n",
       "stroke           -1493.3989    275.726     -5.416      0.000   -2037.983    -948.815\n",
       "compressionratio -3440.8294   2025.806     -1.698      0.091   -7441.982     560.324\n",
       "horsepower         -92.1459    872.807     -0.106      0.916   -1816.020    1631.728\n",
       "peakrpm            981.5115    316.221      3.104      0.002     356.945    1606.078\n",
       "citympg           -277.9204    934.250     -0.297      0.766   -2123.150    1567.309\n",
       "highwaympg         944.1589    902.860      1.046      0.297    -839.074    2727.391\n",
       "==============================================================================\n",
       "Omnibus:                       42.275   Durbin-Watson:                   1.503\n",
       "Prob(Omnibus):                  0.000   Jarque-Bera (JB):              141.762\n",
       "Skew:                           0.790   Prob(JB):                     1.65e-31\n",
       "Kurtosis:                       6.755   Cond. No.                     2.03e+16\n",
       "==============================================================================\n",
       "\n",
       "Warnings:\n",
       "[1] Standard Errors assume that the covariance matrix of the errors is correctly specified.\n",
       "[2] The smallest eigenvalue is 3.7e-30. This might indicate that there are\n",
       "strong multicollinearity problems or that the design matrix is singular.\n",
       "\"\"\""
      ]
     },
     "execution_count": 36,
     "metadata": {},
     "output_type": "execute_result"
    }
   ],
   "source": [
    "X = add_constant(X)\n",
    "model = sm.OLS(y, X).fit()\n",
    "#predictions = model.predict(X)\n",
    "model.summary()"
   ]
  },
  {
   "cell_type": "code",
   "execution_count": 37,
   "metadata": {},
   "outputs": [
    {
     "data": {
      "text/plain": [
       "const               4917.530114\n",
       "fueltype_0          6070.558291\n",
       "fueltype_1         -1153.028177\n",
       "aspiration_0        1511.882833\n",
       "aspiration_1        3405.647281\n",
       "doornumber_0        2493.876396\n",
       "doornumber_1        2423.653718\n",
       "carbody_0           3431.469313\n",
       "carbody_1            545.597575\n",
       "carbody_2            245.833603\n",
       "carbody_3            948.615560\n",
       "carbody_4           -253.985937\n",
       "drivewheel_0        1347.849498\n",
       "drivewheel_1         961.971328\n",
       "drivewheel_2        2607.709288\n",
       "enginelocation_0    -931.389028\n",
       "enginelocation_1    5848.919142\n",
       "enginetype_0         959.068764\n",
       "enginetype_1       -4646.345722\n",
       "enginetype_2        1309.340785\n",
       "enginetype_3        3894.746381\n",
       "enginetype_4        4086.973619\n",
       "enginetype_5       -4123.524606\n",
       "enginetype_6        3437.270893\n",
       "cylindernumber_0    5807.011906\n",
       "cylindernumber_1   -3589.736239\n",
       "cylindernumber_2   -3488.852932\n",
       "cylindernumber_3     322.115969\n",
       "cylindernumber_4    3390.328496\n",
       "cylindernumber_5    -960.607978\n",
       "                       ...     \n",
       "fuelsystem_0        -338.014327\n",
       "fuelsystem_1        1398.473776\n",
       "fuelsystem_2        -693.845659\n",
       "fuelsystem_3        6070.558291\n",
       "fuelsystem_4       -1738.469473\n",
       "fuelsystem_5        1339.042124\n",
       "fuelsystem_6        -459.824889\n",
       "fuelsystem_7        -660.389729\n",
       "cars_0              3674.423895\n",
       "cars_1              1451.562265\n",
       "cars_2               674.772989\n",
       "cars_3              1750.597876\n",
       "cars_4              2061.307411\n",
       "cars_5             -2080.987711\n",
       "cars_6             -1761.945523\n",
       "cars_7               422.614231\n",
       "cars_8             -1274.815319\n",
       "wheelbase            611.447704\n",
       "carlength           -668.047138\n",
       "carwidth            1672.469318\n",
       "carheight            181.548546\n",
       "curbweight          2342.868612\n",
       "enginesize          4030.257043\n",
       "boreratio            -44.138932\n",
       "stroke             -1493.398928\n",
       "compressionratio   -3440.829356\n",
       "horsepower           -92.145895\n",
       "peakrpm              981.511523\n",
       "citympg             -277.920379\n",
       "highwaympg           944.158863\n",
       "Length: 61, dtype: float64"
      ]
     },
     "execution_count": 37,
     "metadata": {},
     "output_type": "execute_result"
    }
   ],
   "source": [
    "model.params"
   ]
  },
  {
   "cell_type": "code",
   "execution_count": 38,
   "metadata": {},
   "outputs": [
    {
     "data": {
      "text/html": [
       "<div>\n",
       "<style scoped>\n",
       "    .dataframe tbody tr th:only-of-type {\n",
       "        vertical-align: middle;\n",
       "    }\n",
       "\n",
       "    .dataframe tbody tr th {\n",
       "        vertical-align: top;\n",
       "    }\n",
       "\n",
       "    .dataframe thead th {\n",
       "        text-align: right;\n",
       "    }\n",
       "</style>\n",
       "<table border=\"1\" class=\"dataframe\">\n",
       "  <thead>\n",
       "    <tr style=\"text-align: right;\">\n",
       "      <th></th>\n",
       "      <th>wheelbase</th>\n",
       "      <th>carlength</th>\n",
       "      <th>carwidth</th>\n",
       "      <th>carheight</th>\n",
       "      <th>curbweight</th>\n",
       "      <th>enginesize</th>\n",
       "      <th>boreratio</th>\n",
       "      <th>stroke</th>\n",
       "      <th>compressionratio</th>\n",
       "      <th>horsepower</th>\n",
       "      <th>peakrpm</th>\n",
       "      <th>citympg</th>\n",
       "      <th>highwaympg</th>\n",
       "    </tr>\n",
       "  </thead>\n",
       "  <tbody>\n",
       "    <tr>\n",
       "      <th>0</th>\n",
       "      <td>88.6</td>\n",
       "      <td>168.8</td>\n",
       "      <td>64.1</td>\n",
       "      <td>48.8</td>\n",
       "      <td>2548</td>\n",
       "      <td>130</td>\n",
       "      <td>3.47</td>\n",
       "      <td>2.68</td>\n",
       "      <td>9.0</td>\n",
       "      <td>111</td>\n",
       "      <td>5000</td>\n",
       "      <td>21</td>\n",
       "      <td>27</td>\n",
       "    </tr>\n",
       "    <tr>\n",
       "      <th>1</th>\n",
       "      <td>88.6</td>\n",
       "      <td>168.8</td>\n",
       "      <td>64.1</td>\n",
       "      <td>48.8</td>\n",
       "      <td>2548</td>\n",
       "      <td>130</td>\n",
       "      <td>3.47</td>\n",
       "      <td>2.68</td>\n",
       "      <td>9.0</td>\n",
       "      <td>111</td>\n",
       "      <td>5000</td>\n",
       "      <td>21</td>\n",
       "      <td>27</td>\n",
       "    </tr>\n",
       "    <tr>\n",
       "      <th>2</th>\n",
       "      <td>94.5</td>\n",
       "      <td>171.2</td>\n",
       "      <td>65.5</td>\n",
       "      <td>52.4</td>\n",
       "      <td>2823</td>\n",
       "      <td>152</td>\n",
       "      <td>2.68</td>\n",
       "      <td>3.47</td>\n",
       "      <td>9.0</td>\n",
       "      <td>154</td>\n",
       "      <td>5000</td>\n",
       "      <td>19</td>\n",
       "      <td>26</td>\n",
       "    </tr>\n",
       "    <tr>\n",
       "      <th>3</th>\n",
       "      <td>99.8</td>\n",
       "      <td>176.6</td>\n",
       "      <td>66.2</td>\n",
       "      <td>54.3</td>\n",
       "      <td>2337</td>\n",
       "      <td>109</td>\n",
       "      <td>3.19</td>\n",
       "      <td>3.40</td>\n",
       "      <td>10.0</td>\n",
       "      <td>102</td>\n",
       "      <td>5500</td>\n",
       "      <td>24</td>\n",
       "      <td>30</td>\n",
       "    </tr>\n",
       "    <tr>\n",
       "      <th>4</th>\n",
       "      <td>99.4</td>\n",
       "      <td>176.6</td>\n",
       "      <td>66.4</td>\n",
       "      <td>54.3</td>\n",
       "      <td>2824</td>\n",
       "      <td>136</td>\n",
       "      <td>3.19</td>\n",
       "      <td>3.40</td>\n",
       "      <td>8.0</td>\n",
       "      <td>115</td>\n",
       "      <td>5500</td>\n",
       "      <td>18</td>\n",
       "      <td>22</td>\n",
       "    </tr>\n",
       "  </tbody>\n",
       "</table>\n",
       "</div>"
      ],
      "text/plain": [
       "   wheelbase  carlength  carwidth  carheight  curbweight  enginesize  \\\n",
       "0       88.6      168.8      64.1       48.8        2548         130   \n",
       "1       88.6      168.8      64.1       48.8        2548         130   \n",
       "2       94.5      171.2      65.5       52.4        2823         152   \n",
       "3       99.8      176.6      66.2       54.3        2337         109   \n",
       "4       99.4      176.6      66.4       54.3        2824         136   \n",
       "\n",
       "   boreratio  stroke  compressionratio  horsepower  peakrpm  citympg  \\\n",
       "0       3.47    2.68               9.0         111     5000       21   \n",
       "1       3.47    2.68               9.0         111     5000       21   \n",
       "2       2.68    3.47               9.0         154     5000       19   \n",
       "3       3.19    3.40              10.0         102     5500       24   \n",
       "4       3.19    3.40               8.0         115     5500       18   \n",
       "\n",
       "   highwaympg  \n",
       "0          27  \n",
       "1          27  \n",
       "2          26  \n",
       "3          30  \n",
       "4          22  "
      ]
     },
     "execution_count": 38,
     "metadata": {},
     "output_type": "execute_result"
    }
   ],
   "source": [
    "df_num.head()"
   ]
  },
  {
   "cell_type": "code",
   "execution_count": 39,
   "metadata": {},
   "outputs": [
    {
     "data": {
      "text/plain": [
       "<matplotlib.collections.PathCollection at 0x12c81a50c88>"
      ]
     },
     "execution_count": 39,
     "metadata": {},
     "output_type": "execute_result"
    },
    {
     "data": {
      "image/png": "[encoded data removed]",
      "text/plain": [
       "<Figure size 432x288 with 1 Axes>"
      ]
     },
     "metadata": {},
     "output_type": "display_data"
    }
   ],
   "source": [
    "plt.scatter(y_test,Y_pred)"
   ]
  },
  {
   "cell_type": "code",
   "execution_count": null,
   "metadata": {},
   "outputs": [],
   "source": []
  }
 ],
 "metadata": {
  "kernelspec": {
   "display_name": "Python 3",
   "language": "python",
   "name": "python3"
  },
  "language_info": {
   "codemirror_mode": {
    "name": "ipython",
    "version": 3
   },
   "file_extension": ".py",
   "mimetype": "text/x-python",
   "name": "python",
   "nbconvert_exporter": "python",
   "pygments_lexer": "ipython3",
   "version": "3.6.5"
  }
 },
 "nbformat": 4,
 "nbformat_minor": 2
}
